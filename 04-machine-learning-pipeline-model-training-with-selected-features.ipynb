{
 "cells": [
  {
   "cell_type": "markdown",
   "id": "fc82e6a3-b745-4b46-853b-f836d7a36a92",
   "metadata": {},
   "source": [
    "# Machine Learning Pipeline - Model Training with Selected Features\n",
    "\n",
    "In the following notebooks, we will go through the implementation of each of the steps in the Machine Learning Pipeline.\n",
    "\n",
    "We will discuss:\n",
    "\n",
    "1. Data Analysis\n",
    "2. Feature Engineering\n",
    "3. Feature Selection\n",
    "4. **Model Training**\n",
    "5. Obtaining Predictions / Scoring"
   ]
  },
  {
   "cell_type": "code",
   "execution_count": 1,
   "id": "e86a4d70-4a29-458f-9e60-f52c4dbd0635",
   "metadata": {},
   "outputs": [],
   "source": [
    "# to handle datasets\n",
    "import pandas as pd\n",
    "import numpy as np\n",
    "\n",
    "# for plotting\n",
    "import matplotlib.pyplot as plt\n",
    "import seaborn as sns\n",
    "sns.set_style('ticks')\n",
    "\n",
    "# to save the model\n",
    "import joblib\n",
    "\n",
    "# algorithms to build and train the models\n",
    "from sklearn.linear_model import LogisticRegression\n",
    "from sklearn.tree import DecisionTreeClassifier\n",
    "from sklearn.neighbors import KNeighborsClassifier\n",
    "from sklearn.svm import SVC\n",
    "from sklearn.ensemble import RandomForestClassifier\n",
    "\n",
    "# to evaluate the model\n",
    "from sklearn.metrics import classification_report, confusion_matrix, f1_score, accuracy_score\n",
    "\n",
    "# to scale the features\n",
    "from sklearn.preprocessing import MinMaxScaler\n",
    "\n",
    "# to visualise all the columns in the dataframe\n",
    "pd.pandas.set_option('display.max_columns', None)"
   ]
  },
  {
   "cell_type": "code",
   "execution_count": 2,
   "id": "da4208fb-f2cd-4aee-a46c-20f590d5847e",
   "metadata": {},
   "outputs": [],
   "source": [
    "# load the train and test set with the engineered variables\n",
    "X_train = pd.read_csv('xtrain_unscaled.csv')\n",
    "X_test = pd.read_csv('xtest_unscaled.csv')"
   ]
  },
  {
   "cell_type": "code",
   "execution_count": 3,
   "id": "ed685e3e-8bc8-4641-a593-59fcd69a5090",
   "metadata": {},
   "outputs": [],
   "source": [
    "y_train = pd.read_csv('ytrain.csv')\n",
    "y_test = pd.read_csv('ytest.csv')"
   ]
  },
  {
   "cell_type": "code",
   "execution_count": 4,
   "id": "5625c20c-2d93-4fbc-a68a-809ce81746e8",
   "metadata": {},
   "outputs": [
    {
     "data": {
      "text/plain": [
       "['AcceptedCmp3',\n",
       " 'AcceptedCmp4',\n",
       " 'AcceptedCmp5',\n",
       " 'AcceptedCmp1',\n",
       " 'AcceptedCmp2']"
      ]
     },
     "execution_count": 4,
     "metadata": {},
     "output_type": "execute_result"
    }
   ],
   "source": [
    "# load the pre-selected features\n",
    "features = pd.read_csv('selected_features.csv')\n",
    "features = features['0'].to_list()\n",
    "\n",
    "# display the final feature set\n",
    "features "
   ]
  },
  {
   "cell_type": "code",
   "execution_count": 5,
   "id": "ab774b53-b152-4fbc-a3bd-45a3efd08654",
   "metadata": {},
   "outputs": [],
   "source": [
    "# reduce the train and test set to the selected features\n",
    "X_train = X_train[features]\n",
    "X_test = X_test[features]"
   ]
  },
  {
   "cell_type": "code",
   "execution_count": 6,
   "id": "289ebbc2-42f1-4d74-bf7e-07cecd237cf0",
   "metadata": {},
   "outputs": [
    {
     "data": {
      "text/plain": [
       "Index(['AcceptedCmp3', 'AcceptedCmp4', 'AcceptedCmp5', 'AcceptedCmp1',\n",
       "       'AcceptedCmp2'],\n",
       "      dtype='object')"
      ]
     },
     "execution_count": 6,
     "metadata": {},
     "output_type": "execute_result"
    }
   ],
   "source": [
    "X_train.columns"
   ]
  },
  {
   "cell_type": "markdown",
   "id": "70abc620-0dcf-49fa-9236-ca8e73f2e2d5",
   "metadata": {},
   "source": [
    "Our model won't require scaling our features because all our selected features are binary, i.e. either 0 or 1 values.\n",
    "\n",
    "# Model Training\n",
    "\n",
    "To train the model, we will be trying the following learning approaches:\n",
    "\n",
    "- Logistic Regression\n",
    "- Decision Trees\n",
    "- Random Forests\n",
    "- Nearest Neighbors\n",
    "- Support Vector Machines\n",
    "\n",
    "Our metric of priority will be the f-1 score for the 'Y' label, i.e. the 1 class considering the imbalanced nature of the dataset."
   ]
  },
  {
   "cell_type": "code",
   "execution_count": 7,
   "id": "b29c4a7e-41cb-4d42-9015-b7a2a3d19dd3",
   "metadata": {},
   "outputs": [],
   "source": [
    "# dictionary to store the f1 scores and accuracy scores of the models\n",
    "f1_scores = {}\n",
    "accuracy_scores = {}"
   ]
  },
  {
   "cell_type": "markdown",
   "id": "c39ff636-cb60-45fb-b186-fd2f37dfb472",
   "metadata": {},
   "source": [
    "## Logistic Regression"
   ]
  },
  {
   "cell_type": "code",
   "execution_count": 8,
   "id": "dff9f851-2ff0-4126-b981-a4875bbfc166",
   "metadata": {},
   "outputs": [
    {
     "name": "stdout",
     "output_type": "stream",
     "text": [
      "[[364   4]\n",
      " [ 64  16]]\n",
      "\n",
      "              precision    recall  f1-score   support\n",
      "\n",
      "           0       0.85      0.99      0.91       368\n",
      "           1       0.80      0.20      0.32        80\n",
      "\n",
      "    accuracy                           0.85       448\n",
      "   macro avg       0.83      0.59      0.62       448\n",
      "weighted avg       0.84      0.85      0.81       448\n",
      "\n"
     ]
    }
   ],
   "source": [
    "log_model = LogisticRegression()\n",
    "log_model.fit(X_train,y_train['Response'])\n",
    "log_preds = log_model.predict(X_test)\n",
    "\n",
    "f1_scores['log_model'] = f1_score(y_test,log_preds)\n",
    "accuracy_scores['log_model'] = accuracy_score(y_test,log_preds)\n",
    "\n",
    "print(confusion_matrix(y_test,log_preds))\n",
    "print()\n",
    "print(classification_report(y_test,log_preds))"
   ]
  },
  {
   "cell_type": "markdown",
   "id": "83c4c169-5873-4fe7-b32c-0ce67c1a675f",
   "metadata": {},
   "source": [
    "## Decision Tree"
   ]
  },
  {
   "cell_type": "code",
   "execution_count": 9,
   "id": "9eeaf0d4-37ed-4fdb-961b-06809a2ce5f2",
   "metadata": {},
   "outputs": [
    {
     "name": "stdout",
     "output_type": "stream",
     "text": [
      "[[365   3]\n",
      " [ 66  14]]\n",
      "\n",
      "              precision    recall  f1-score   support\n",
      "\n",
      "           0       0.85      0.99      0.91       368\n",
      "           1       0.82      0.17      0.29        80\n",
      "\n",
      "    accuracy                           0.85       448\n",
      "   macro avg       0.84      0.58      0.60       448\n",
      "weighted avg       0.84      0.85      0.80       448\n",
      "\n"
     ]
    }
   ],
   "source": [
    "tree_model = DecisionTreeClassifier()\n",
    "tree_model.fit(X_train,y_train['Response'])\n",
    "tree_preds = tree_model.predict(X_test)\n",
    "\n",
    "f1_scores['tree_model'] = f1_score(y_test,tree_preds)\n",
    "accuracy_scores['tree_model'] = accuracy_score(y_test,tree_preds)\n",
    "\n",
    "print(confusion_matrix(y_test,tree_preds))\n",
    "print()\n",
    "print(classification_report(y_test,tree_preds))"
   ]
  },
  {
   "cell_type": "markdown",
   "id": "1b5c4860-4001-4b4f-a092-4a4c6a7bc98d",
   "metadata": {},
   "source": [
    "## Random Forests"
   ]
  },
  {
   "cell_type": "code",
   "execution_count": 10,
   "id": "d737da73-8bcd-49ac-a735-3a8de125a76c",
   "metadata": {},
   "outputs": [
    {
     "name": "stdout",
     "output_type": "stream",
     "text": [
      "[[365   3]\n",
      " [ 66  14]]\n",
      "\n",
      "              precision    recall  f1-score   support\n",
      "\n",
      "           0       0.85      0.99      0.91       368\n",
      "           1       0.82      0.17      0.29        80\n",
      "\n",
      "    accuracy                           0.85       448\n",
      "   macro avg       0.84      0.58      0.60       448\n",
      "weighted avg       0.84      0.85      0.80       448\n",
      "\n"
     ]
    }
   ],
   "source": [
    "forest_model = RandomForestClassifier(n_estimators=200,random_state=0)\n",
    "forest_model.fit(X_train,y_train['Response'])\n",
    "forest_preds = forest_model.predict(X_test)\n",
    "\n",
    "f1_scores['forest_model'] = f1_score(y_test,forest_preds)\n",
    "accuracy_scores['forest_model'] = accuracy_score(y_test,forest_preds)\n",
    "\n",
    "print(confusion_matrix(y_test,forest_preds))\n",
    "print()\n",
    "print(classification_report(y_test,forest_preds))"
   ]
  },
  {
   "cell_type": "markdown",
   "id": "6ccd0585-425f-4a36-909a-40ba58d4dada",
   "metadata": {},
   "source": [
    "## Nearest Neighbors"
   ]
  },
  {
   "cell_type": "code",
   "execution_count": 11,
   "id": "a8356ba2-3a3a-4004-9ded-26278113aac3",
   "metadata": {},
   "outputs": [
    {
     "name": "stdout",
     "output_type": "stream",
     "text": [
      "[[365   3]\n",
      " [ 66  14]]\n",
      "\n",
      "              precision    recall  f1-score   support\n",
      "\n",
      "           0       0.85      0.99      0.91       368\n",
      "           1       0.82      0.17      0.29        80\n",
      "\n",
      "    accuracy                           0.85       448\n",
      "   macro avg       0.84      0.58      0.60       448\n",
      "weighted avg       0.84      0.85      0.80       448\n",
      "\n"
     ]
    }
   ],
   "source": [
    "knn_model = KNeighborsClassifier(n_neighbors=5)\n",
    "knn_model.fit(X_train,y_train['Response'])\n",
    "knn_preds = knn_model.predict(X_test)\n",
    "\n",
    "f1_scores['knn_model'] = f1_score(y_test,knn_preds)\n",
    "accuracy_scores['knn_model'] = accuracy_score(y_test,knn_preds)\n",
    "\n",
    "print(confusion_matrix(y_test,knn_preds))\n",
    "print()\n",
    "print(classification_report(y_test,knn_preds))"
   ]
  },
  {
   "cell_type": "markdown",
   "id": "eb22ec8a-ce52-4efc-8f56-720b3741e050",
   "metadata": {},
   "source": [
    "## Support Vector Machines"
   ]
  },
  {
   "cell_type": "code",
   "execution_count": 12,
   "id": "a16e548e-a068-4ccd-a55a-40ae448eae71",
   "metadata": {},
   "outputs": [
    {
     "name": "stdout",
     "output_type": "stream",
     "text": [
      "[[365   3]\n",
      " [ 66  14]]\n",
      "\n",
      "              precision    recall  f1-score   support\n",
      "\n",
      "           0       0.85      0.99      0.91       368\n",
      "           1       0.82      0.17      0.29        80\n",
      "\n",
      "    accuracy                           0.85       448\n",
      "   macro avg       0.84      0.58      0.60       448\n",
      "weighted avg       0.84      0.85      0.80       448\n",
      "\n"
     ]
    }
   ],
   "source": [
    "svc_model = SVC()\n",
    "svc_model.fit(X_train,y_train['Response'])\n",
    "svc_preds = svc_model.predict(X_test)\n",
    "\n",
    "f1_scores['svc_model'] = f1_score(y_test,svc_preds)\n",
    "accuracy_scores['svc_model'] = accuracy_score(y_test,svc_preds)\n",
    "\n",
    "print(confusion_matrix(y_test,svc_preds))\n",
    "print()\n",
    "print(classification_report(y_test,svc_preds))"
   ]
  },
  {
   "cell_type": "markdown",
   "id": "c1fec47c-5c17-4c57-bfd3-60d88cd67975",
   "metadata": {},
   "source": [
    "# Model Evaluation\n",
    "\n",
    "Let's plot out the f1 scores and the accuracy scores from all our models:"
   ]
  },
  {
   "cell_type": "code",
   "execution_count": 13,
   "id": "5cfe9cb3-3fe0-440f-a879-210d06796d11",
   "metadata": {},
   "outputs": [
    {
     "data": {
      "text/plain": [
       "Text(0.5, 1.0, 'Model Evaluation')"
      ]
     },
     "execution_count": 13,
     "metadata": {},
     "output_type": "execute_result"
    },
    {
     "data": {
      "image/png": "[encoded data removed]",
      "text/plain": [
       "<Figure size 1440x504 with 1 Axes>"
      ]
     },
     "metadata": {},
     "output_type": "display_data"
    }
   ],
   "source": [
    "pd.Series(f1_scores).sort_values(ascending=False).plot.line(rot=90,figsize=(20,7))\n",
    "plt.ylabel('f1 score')\n",
    "plt.title('Model Evaluation')"
   ]
  },
  {
   "cell_type": "code",
   "execution_count": 14,
   "id": "ad920d92-46f2-49ab-92a5-f0babbe20da7",
   "metadata": {},
   "outputs": [
    {
     "data": {
      "text/plain": [
       "Text(0.5, 1.0, 'Model Evaluation')"
      ]
     },
     "execution_count": 14,
     "metadata": {},
     "output_type": "execute_result"
    },
    {
     "data": {
      "image/png": "[encoded data removed]",
      "text/plain": [
       "<Figure size 1440x504 with 1 Axes>"
      ]
     },
     "metadata": {},
     "output_type": "display_data"
    }
   ],
   "source": [
    "pd.Series(accuracy_scores).sort_values(ascending=False).plot.line(rot=90,figsize=(20,7))\n",
    "plt.ylabel('accuracy score')\n",
    "plt.title('Model Evaluation')"
   ]
  },
  {
   "cell_type": "markdown",
   "id": "02b78b83-3307-436f-96c8-8851edc9b99b",
   "metadata": {},
   "source": [
    "Like we anticipated, all our model performed quite well on the majority class and quite poorly on the minority class. \n",
    "\n",
    "Considering the class imbalance and the poor performance of the minority class, we would have to prioritise the f-1 scores over the misleading accuracy score. Besides the Logisitic Regression model with an f-1 score of 32%, every other model has an f-1 score of 29%.\n",
    "\n",
    "The low f-1 scores are a result of the recall scores and the harmonic mean effect. The precision scores only look impressive because the model is more familiar with the negative class so it doesn't have to make a lot of false negative selections. However, it doesn't make a lot of true positive picks. Notice how recall has been tainted with a lot of false negative picks.\n",
    "\n",
    "Putting any of these models in production would be unhelpful because:\n",
    "\n",
    "- It wouldn't pick enough customers who were interested in future campaigns. This could come at a cost of lost revenue to the company. As such, it would be misleading to plan a marketing budget around the outcomes/preditions of the models.\n",
    "\n",
    "Let's try adding the features we removed back into the model and observing if it improves the performance of the models."
   ]
  },
  {
   "cell_type": "code",
   "execution_count": null,
   "id": "46552053-8229-4809-8221-84e5a0c01586",
   "metadata": {},
   "outputs": [],
   "source": []
  }
 ],
 "metadata": {
  "kernelspec": {
   "display_name": "Python 3 (ipykernel)",
   "language": "python",
   "name": "python3"
  },
  "language_info": {
   "codemirror_mode": {
    "name": "ipython",
    "version": 3
   },
   "file_extension": ".py",
   "mimetype": "text/x-python",
   "name": "python",
   "nbconvert_exporter": "python",
   "pygments_lexer": "ipython3",
   "version": "3.9.7"
  }
 },
 "nbformat": 4,
 "nbformat_minor": 5
}
