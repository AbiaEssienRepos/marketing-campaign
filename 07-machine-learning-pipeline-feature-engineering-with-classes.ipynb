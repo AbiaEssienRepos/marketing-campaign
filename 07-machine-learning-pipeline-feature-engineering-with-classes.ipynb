{
 "cells": [
  {
   "cell_type": "markdown",
   "id": "2bfef20d-496f-45d0-a6ff-e1338c0d8005",
   "metadata": {},
   "source": [
    "# Machine Learning Pipeline - Feature Engineering with Classes\n",
    "\n",
    "In this notebook, we will reproduce the Feature Engineering Pipeline from the notebook 2 (02-Machine-Learning-Pipeline-Feature-Engineering), but we will replace, whenever possible, the manually created functions with our created classes, and hopefully understand the value they bring forward.\n",
    "\n",
    "Our classes are saved in the preprocessors module file."
   ]
  },
  {
   "cell_type": "code",
   "execution_count": 1,
   "id": "4705d4c5-1183-405e-ad14-4c94b0a8a952",
   "metadata": {},
   "outputs": [],
   "source": [
    "# data manipulation\n",
    "import pandas as pd\n",
    "import numpy as np\n",
    "\n",
    "# from sklearn\n",
    "from sklearn.model_selection import train_test_split\n",
    "\n",
    "# to visualise all the columns in the dataframe\n",
    "pd.pandas.set_option('display.max_columns', None)\n",
    "\n",
    "# our in-house pre-processing module\n",
    "import preprocessors as pp"
   ]
  },
  {
   "cell_type": "code",
   "execution_count": 2,
   "id": "0b110641-3248-45bd-a9a2-2d2edeedf3d0",
   "metadata": {},
   "outputs": [
    {
     "name": "stdout",
     "output_type": "stream",
     "text": [
      "Number of rows: 2240\n",
      "Number of columns: 29\n"
     ]
    },
    {
     "data": {
      "text/html": [
       "<div>\n",
       "<style scoped>\n",
       "    .dataframe tbody tr th:only-of-type {\n",
       "        vertical-align: middle;\n",
       "    }\n",
       "\n",
       "    .dataframe tbody tr th {\n",
       "        vertical-align: top;\n",
       "    }\n",
       "\n",
       "    .dataframe thead th {\n",
       "        text-align: right;\n",
       "    }\n",
       "</style>\n",
       "<table border=\"1\" class=\"dataframe\">\n",
       "  <thead>\n",
       "    <tr style=\"text-align: right;\">\n",
       "      <th></th>\n",
       "      <th>ID</th>\n",
       "      <th>Year_Birth</th>\n",
       "      <th>Education</th>\n",
       "      <th>Marital_Status</th>\n",
       "      <th>Income</th>\n",
       "      <th>Kidhome</th>\n",
       "      <th>Teenhome</th>\n",
       "      <th>Dt_Customer</th>\n",
       "      <th>Recency</th>\n",
       "      <th>MntWines</th>\n",
       "      <th>MntFruits</th>\n",
       "      <th>MntMeatProducts</th>\n",
       "      <th>MntFishProducts</th>\n",
       "      <th>MntSweetProducts</th>\n",
       "      <th>MntGoldProds</th>\n",
       "      <th>NumDealsPurchases</th>\n",
       "      <th>NumWebPurchases</th>\n",
       "      <th>NumCatalogPurchases</th>\n",
       "      <th>NumStorePurchases</th>\n",
       "      <th>NumWebVisitsMonth</th>\n",
       "      <th>AcceptedCmp3</th>\n",
       "      <th>AcceptedCmp4</th>\n",
       "      <th>AcceptedCmp5</th>\n",
       "      <th>AcceptedCmp1</th>\n",
       "      <th>AcceptedCmp2</th>\n",
       "      <th>Complain</th>\n",
       "      <th>Z_CostContact</th>\n",
       "      <th>Z_Revenue</th>\n",
       "      <th>Response</th>\n",
       "    </tr>\n",
       "  </thead>\n",
       "  <tbody>\n",
       "    <tr>\n",
       "      <th>0</th>\n",
       "      <td>5524</td>\n",
       "      <td>1957</td>\n",
       "      <td>Graduation</td>\n",
       "      <td>Single</td>\n",
       "      <td>58138.0</td>\n",
       "      <td>0</td>\n",
       "      <td>0</td>\n",
       "      <td>2012-09-04</td>\n",
       "      <td>58</td>\n",
       "      <td>635</td>\n",
       "      <td>88</td>\n",
       "      <td>546</td>\n",
       "      <td>172</td>\n",
       "      <td>88</td>\n",
       "      <td>88</td>\n",
       "      <td>3</td>\n",
       "      <td>8</td>\n",
       "      <td>10</td>\n",
       "      <td>4</td>\n",
       "      <td>7</td>\n",
       "      <td>0</td>\n",
       "      <td>0</td>\n",
       "      <td>0</td>\n",
       "      <td>0</td>\n",
       "      <td>0</td>\n",
       "      <td>0</td>\n",
       "      <td>3</td>\n",
       "      <td>11</td>\n",
       "      <td>1</td>\n",
       "    </tr>\n",
       "    <tr>\n",
       "      <th>1</th>\n",
       "      <td>2174</td>\n",
       "      <td>1954</td>\n",
       "      <td>Graduation</td>\n",
       "      <td>Single</td>\n",
       "      <td>46344.0</td>\n",
       "      <td>1</td>\n",
       "      <td>1</td>\n",
       "      <td>2014-03-08</td>\n",
       "      <td>38</td>\n",
       "      <td>11</td>\n",
       "      <td>1</td>\n",
       "      <td>6</td>\n",
       "      <td>2</td>\n",
       "      <td>1</td>\n",
       "      <td>6</td>\n",
       "      <td>2</td>\n",
       "      <td>1</td>\n",
       "      <td>1</td>\n",
       "      <td>2</td>\n",
       "      <td>5</td>\n",
       "      <td>0</td>\n",
       "      <td>0</td>\n",
       "      <td>0</td>\n",
       "      <td>0</td>\n",
       "      <td>0</td>\n",
       "      <td>0</td>\n",
       "      <td>3</td>\n",
       "      <td>11</td>\n",
       "      <td>0</td>\n",
       "    </tr>\n",
       "    <tr>\n",
       "      <th>2</th>\n",
       "      <td>4141</td>\n",
       "      <td>1965</td>\n",
       "      <td>Graduation</td>\n",
       "      <td>Together</td>\n",
       "      <td>71613.0</td>\n",
       "      <td>0</td>\n",
       "      <td>0</td>\n",
       "      <td>2013-08-21</td>\n",
       "      <td>26</td>\n",
       "      <td>426</td>\n",
       "      <td>49</td>\n",
       "      <td>127</td>\n",
       "      <td>111</td>\n",
       "      <td>21</td>\n",
       "      <td>42</td>\n",
       "      <td>1</td>\n",
       "      <td>8</td>\n",
       "      <td>2</td>\n",
       "      <td>10</td>\n",
       "      <td>4</td>\n",
       "      <td>0</td>\n",
       "      <td>0</td>\n",
       "      <td>0</td>\n",
       "      <td>0</td>\n",
       "      <td>0</td>\n",
       "      <td>0</td>\n",
       "      <td>3</td>\n",
       "      <td>11</td>\n",
       "      <td>0</td>\n",
       "    </tr>\n",
       "    <tr>\n",
       "      <th>3</th>\n",
       "      <td>6182</td>\n",
       "      <td>1984</td>\n",
       "      <td>Graduation</td>\n",
       "      <td>Together</td>\n",
       "      <td>26646.0</td>\n",
       "      <td>1</td>\n",
       "      <td>0</td>\n",
       "      <td>2014-02-10</td>\n",
       "      <td>26</td>\n",
       "      <td>11</td>\n",
       "      <td>4</td>\n",
       "      <td>20</td>\n",
       "      <td>10</td>\n",
       "      <td>3</td>\n",
       "      <td>5</td>\n",
       "      <td>2</td>\n",
       "      <td>2</td>\n",
       "      <td>0</td>\n",
       "      <td>4</td>\n",
       "      <td>6</td>\n",
       "      <td>0</td>\n",
       "      <td>0</td>\n",
       "      <td>0</td>\n",
       "      <td>0</td>\n",
       "      <td>0</td>\n",
       "      <td>0</td>\n",
       "      <td>3</td>\n",
       "      <td>11</td>\n",
       "      <td>0</td>\n",
       "    </tr>\n",
       "    <tr>\n",
       "      <th>4</th>\n",
       "      <td>5324</td>\n",
       "      <td>1981</td>\n",
       "      <td>PhD</td>\n",
       "      <td>Married</td>\n",
       "      <td>58293.0</td>\n",
       "      <td>1</td>\n",
       "      <td>0</td>\n",
       "      <td>2014-01-19</td>\n",
       "      <td>94</td>\n",
       "      <td>173</td>\n",
       "      <td>43</td>\n",
       "      <td>118</td>\n",
       "      <td>46</td>\n",
       "      <td>27</td>\n",
       "      <td>15</td>\n",
       "      <td>5</td>\n",
       "      <td>5</td>\n",
       "      <td>3</td>\n",
       "      <td>6</td>\n",
       "      <td>5</td>\n",
       "      <td>0</td>\n",
       "      <td>0</td>\n",
       "      <td>0</td>\n",
       "      <td>0</td>\n",
       "      <td>0</td>\n",
       "      <td>0</td>\n",
       "      <td>3</td>\n",
       "      <td>11</td>\n",
       "      <td>0</td>\n",
       "    </tr>\n",
       "  </tbody>\n",
       "</table>\n",
       "</div>"
      ],
      "text/plain": [
       "     ID  Year_Birth   Education Marital_Status   Income  Kidhome  Teenhome  \\\n",
       "0  5524        1957  Graduation         Single  58138.0        0         0   \n",
       "1  2174        1954  Graduation         Single  46344.0        1         1   \n",
       "2  4141        1965  Graduation       Together  71613.0        0         0   \n",
       "3  6182        1984  Graduation       Together  26646.0        1         0   \n",
       "4  5324        1981         PhD        Married  58293.0        1         0   \n",
       "\n",
       "  Dt_Customer  Recency  MntWines  MntFruits  MntMeatProducts  MntFishProducts  \\\n",
       "0  2012-09-04       58       635         88              546              172   \n",
       "1  2014-03-08       38        11          1                6                2   \n",
       "2  2013-08-21       26       426         49              127              111   \n",
       "3  2014-02-10       26        11          4               20               10   \n",
       "4  2014-01-19       94       173         43              118               46   \n",
       "\n",
       "   MntSweetProducts  MntGoldProds  NumDealsPurchases  NumWebPurchases  \\\n",
       "0                88            88                  3                8   \n",
       "1                 1             6                  2                1   \n",
       "2                21            42                  1                8   \n",
       "3                 3             5                  2                2   \n",
       "4                27            15                  5                5   \n",
       "\n",
       "   NumCatalogPurchases  NumStorePurchases  NumWebVisitsMonth  AcceptedCmp3  \\\n",
       "0                   10                  4                  7             0   \n",
       "1                    1                  2                  5             0   \n",
       "2                    2                 10                  4             0   \n",
       "3                    0                  4                  6             0   \n",
       "4                    3                  6                  5             0   \n",
       "\n",
       "   AcceptedCmp4  AcceptedCmp5  AcceptedCmp1  AcceptedCmp2  Complain  \\\n",
       "0             0             0             0             0         0   \n",
       "1             0             0             0             0         0   \n",
       "2             0             0             0             0         0   \n",
       "3             0             0             0             0         0   \n",
       "4             0             0             0             0         0   \n",
       "\n",
       "   Z_CostContact  Z_Revenue  Response  \n",
       "0              3         11         1  \n",
       "1              3         11         0  \n",
       "2              3         11         0  \n",
       "3              3         11         0  \n",
       "4              3         11         0  "
      ]
     },
     "execution_count": 2,
     "metadata": {},
     "output_type": "execute_result"
    }
   ],
   "source": [
    "# load dataset\n",
    "data = pd.read_csv('campaign.csv')\n",
    "\n",
    "# rows and columns of the data\n",
    "print(f'Number of rows: {data.shape[0]}')\n",
    "print(f'Number of columns: {data.shape[1]}')\n",
    "\n",
    "# visualise the dataset\n",
    "data.head()"
   ]
  },
  {
   "cell_type": "markdown",
   "id": "8a0e8a40-4d4b-44ec-b3d7-9050fb46db53",
   "metadata": {},
   "source": [
    "# Separate dataset into train and test\n",
    "\n",
    "It is important to separate our data intro training and testing set.\n",
    "\n",
    "When we engineer features, some techniques learn parameters from data. It is important to learn these parameters only from the train set. This is to avoid over-fitting.\n",
    "\n",
    "**Separating the data into train and test involves randomness, therefore, we need to set the seed.**"
   ]
  },
  {
   "cell_type": "code",
   "execution_count": 3,
   "id": "9360621f-cf23-46fc-ae5d-b41b3d937ff7",
   "metadata": {},
   "outputs": [],
   "source": [
    "# Let's separate into train and test set\n",
    "# Remember to set the seed (random_state for this sklearn function)\n",
    "\n",
    "X_train, X_test, y_train, y_test = train_test_split(\n",
    "    data.drop(['ID','Response'], axis=1), # predictive variables\n",
    "    data['Response'], # target\n",
    "    test_size=0.2, # portion of dataset to allocate to test set\n",
    "    random_state=0, # we are setting the seed here\n",
    ")"
   ]
  },
  {
   "cell_type": "code",
   "execution_count": 4,
   "id": "d9d09e59-0553-437e-b8be-98079199a7fe",
   "metadata": {},
   "outputs": [
    {
     "data": {
      "text/plain": [
       "((1792, 27), (448, 27))"
      ]
     },
     "execution_count": 4,
     "metadata": {},
     "output_type": "execute_result"
    }
   ],
   "source": [
    "X_train.shape, X_test.shape"
   ]
  },
  {
   "cell_type": "markdown",
   "id": "e49956d8-6814-4e79-a3dc-5806af03bc05",
   "metadata": {},
   "source": [
    "# Feature Engineering\n",
    "\n",
    "In the following cells, we will engineer the variables of the student grades dataset so that we tackle:\n",
    "\n",
    "1. Constant values in some variables.\n",
    "2. Missing values\n",
    "3. Temporal Values\n",
    "3. Categorical Variables: ordinal encoding on non-binary variables\n",
    "4. Oversampling the minority label\n",
    "5. Scale the continuous variables to the same range\n",
    "\n",
    "## Constant Values\n",
    "\n",
    "We will drop the variables with constant values because they offer no information to the model."
   ]
  },
  {
   "cell_type": "code",
   "execution_count": 5,
   "id": "75af50a9-e63b-44a8-b540-6b4b27463a9c",
   "metadata": {},
   "outputs": [
    {
     "data": {
      "text/plain": [
       "['Z_CostContact', 'Z_Revenue']"
      ]
     },
     "execution_count": 5,
     "metadata": {},
     "output_type": "execute_result"
    }
   ],
   "source": [
    "# quick check to confirm constant-value features\n",
    "[var for var in X_train.columns if X_train[var].nunique()==1]"
   ]
  },
  {
   "cell_type": "code",
   "execution_count": 6,
   "id": "4de7eae1-edcf-453e-8134-4be031fc5dca",
   "metadata": {},
   "outputs": [],
   "source": [
    "drop_constant = pp.DropConstant()"
   ]
  },
  {
   "cell_type": "code",
   "execution_count": 7,
   "id": "c48090a3-6df9-413f-a886-d0695a32ec8f",
   "metadata": {},
   "outputs": [
    {
     "data": {
      "text/plain": [
       "<preprocessors.DropConstant at 0x12321d760>"
      ]
     },
     "execution_count": 7,
     "metadata": {},
     "output_type": "execute_result"
    }
   ],
   "source": [
    "drop_constant.fit(X_train)"
   ]
  },
  {
   "cell_type": "code",
   "execution_count": 8,
   "id": "1177d715-d3f1-4c25-ac8a-b428dfc9bc8e",
   "metadata": {},
   "outputs": [
    {
     "data": {
      "text/plain": [
       "['Z_CostContact', 'Z_Revenue']"
      ]
     },
     "execution_count": 8,
     "metadata": {},
     "output_type": "execute_result"
    }
   ],
   "source": [
    "drop_constant.constant_"
   ]
  },
  {
   "cell_type": "code",
   "execution_count": 9,
   "id": "f7b53a7b-a51c-4424-a0bb-f81158379bf1",
   "metadata": {},
   "outputs": [],
   "source": [
    "X_train = drop_constant.transform(X_train)\n",
    "X_test = drop_constant.transform(X_test)"
   ]
  },
  {
   "cell_type": "code",
   "execution_count": 10,
   "id": "4942153d-db98-4146-92a1-484191f3581b",
   "metadata": {},
   "outputs": [
    {
     "data": {
      "text/plain": [
       "[]"
      ]
     },
     "execution_count": 10,
     "metadata": {},
     "output_type": "execute_result"
    }
   ],
   "source": [
    "# confirm features have been dropped\n",
    "[var for var in X_train.columns if X_train[var].nunique()==1]"
   ]
  },
  {
   "cell_type": "markdown",
   "id": "51d50bee-2367-4218-ac71-60e06d40ac1f",
   "metadata": {},
   "source": [
    "## Mean Imputation\n",
    "\n",
    "We had null values in the Income variable. We will now replace those null values with the mean of the variable. The average income value will be learned from the training set and used to transform both the train and test sets."
   ]
  },
  {
   "cell_type": "code",
   "execution_count": 11,
   "id": "82ceac1c-435a-4302-acbe-4cb4e1092221",
   "metadata": {},
   "outputs": [
    {
     "data": {
      "text/plain": [
       "(17, 7)"
      ]
     },
     "execution_count": 11,
     "metadata": {},
     "output_type": "execute_result"
    }
   ],
   "source": [
    "# the number of null entries in each dataset before the mean imputation.\n",
    "len(X_train[X_train['Income'].isnull()]), len(X_test[X_test['Income'].isnull()])"
   ]
  },
  {
   "cell_type": "code",
   "execution_count": 12,
   "id": "644a05e4-4db6-451c-b02e-e99f665d588f",
   "metadata": {},
   "outputs": [],
   "source": [
    "missing_imputer = pp.MissingImputer(['Income'])"
   ]
  },
  {
   "cell_type": "code",
   "execution_count": 13,
   "id": "b95250c5-d06d-4e77-b53f-a31bdb42cfb3",
   "metadata": {},
   "outputs": [
    {
     "data": {
      "text/plain": [
       "<preprocessors.MissingImputer at 0x123225670>"
      ]
     },
     "execution_count": 13,
     "metadata": {},
     "output_type": "execute_result"
    }
   ],
   "source": [
    "missing_imputer.fit(X_train,y_train)"
   ]
  },
  {
   "cell_type": "code",
   "execution_count": 14,
   "id": "71400a1c-4f88-4b6a-a5a2-11d724dc6ba0",
   "metadata": {},
   "outputs": [
    {
     "data": {
      "text/plain": [
       "{'Income': 52662.7538028169}"
      ]
     },
     "execution_count": 14,
     "metadata": {},
     "output_type": "execute_result"
    }
   ],
   "source": [
    "# mean value obtained from the train set\n",
    "missing_imputer.params_"
   ]
  },
  {
   "cell_type": "code",
   "execution_count": 15,
   "id": "5b6b8f62-7eee-4bf0-9361-49e23cc18f28",
   "metadata": {},
   "outputs": [],
   "source": [
    "X_train = missing_imputer.transform(X_train,y_train)\n",
    "X_test = missing_imputer.transform(X_test,y_test)"
   ]
  },
  {
   "cell_type": "code",
   "execution_count": 16,
   "id": "4f1ee786-4c70-4d81-884e-cbda20ba69da",
   "metadata": {},
   "outputs": [
    {
     "data": {
      "text/plain": [
       "(0, 0)"
      ]
     },
     "execution_count": 16,
     "metadata": {},
     "output_type": "execute_result"
    }
   ],
   "source": [
    "# all the null values across both sets have now been replaced\n",
    "len(X_train[X_train['Income'].isnull()]), len(X_test[X_test['Income'].isnull()])"
   ]
  },
  {
   "cell_type": "markdown",
   "id": "d6c1032a-f866-4a89-bc0c-7c5d64bc943c",
   "metadata": {},
   "source": [
    "## Temporal Variables\n",
    "\n",
    "We will now capture the ages of the customers and their patronage periods from the Year_Birth and Dt_Customer variables respectively\n",
    "\n",
    "### Dt_Customer"
   ]
  },
  {
   "cell_type": "code",
   "execution_count": 17,
   "id": "2a230e42-220b-44e9-8935-f44925ba5dff",
   "metadata": {},
   "outputs": [
    {
     "data": {
      "text/plain": [
       "818     2014-03-29\n",
       "1281    2012-08-18\n",
       "1766    2014-06-16\n",
       "1577    2014-04-28\n",
       "924     2014-05-18\n",
       "Name: Dt_Customer, dtype: object"
      ]
     },
     "execution_count": 17,
     "metadata": {},
     "output_type": "execute_result"
    }
   ],
   "source": [
    "X_train['Dt_Customer'].head()"
   ]
  },
  {
   "cell_type": "code",
   "execution_count": 18,
   "id": "29707aed-f61a-4cd5-a2fc-694bc98f69ca",
   "metadata": {},
   "outputs": [],
   "source": [
    "date_transform = pp.TransformDate(variables=['Dt_Customer'],current_year=2022)"
   ]
  },
  {
   "cell_type": "code",
   "execution_count": 19,
   "id": "2bbc9c2f-dc9b-45f7-b2da-e0df859d7090",
   "metadata": {},
   "outputs": [
    {
     "data": {
      "text/plain": [
       "<preprocessors.TransformDate at 0x12321a670>"
      ]
     },
     "execution_count": 19,
     "metadata": {},
     "output_type": "execute_result"
    }
   ],
   "source": [
    "date_transform.fit(X_train)"
   ]
  },
  {
   "cell_type": "code",
   "execution_count": 20,
   "id": "59476169-1ebe-43d4-b6fe-4fc63f17708f",
   "metadata": {},
   "outputs": [],
   "source": [
    "X_train = date_transform.transform(X_train)\n",
    "X_test = date_transform.transform(X_test)"
   ]
  },
  {
   "cell_type": "code",
   "execution_count": 21,
   "id": "84d60853-8e25-4a88-b20f-906724d652df",
   "metadata": {},
   "outputs": [
    {
     "data": {
      "text/plain": [
       "818      8\n",
       "1281    10\n",
       "1766     8\n",
       "1577     8\n",
       "924      8\n",
       "Name: Dt_Customer, dtype: int64"
      ]
     },
     "execution_count": 21,
     "metadata": {},
     "output_type": "execute_result"
    }
   ],
   "source": [
    "X_train['Dt_Customer'].head()"
   ]
  },
  {
   "cell_type": "markdown",
   "id": "c9b55d2b-47cb-4ac5-ab68-980727617535",
   "metadata": {},
   "source": [
    "### Year_Birth"
   ]
  },
  {
   "cell_type": "code",
   "execution_count": 22,
   "id": "6fc3909b-409e-4429-947a-22178c316c7d",
   "metadata": {},
   "outputs": [
    {
     "data": {
      "text/plain": [
       "818     1972\n",
       "1281    1971\n",
       "1766    1980\n",
       "1577    1947\n",
       "924     1986\n",
       "Name: Year_Birth, dtype: int64"
      ]
     },
     "execution_count": 22,
     "metadata": {},
     "output_type": "execute_result"
    }
   ],
   "source": [
    "X_train['Year_Birth'].head()"
   ]
  },
  {
   "cell_type": "code",
   "execution_count": 23,
   "id": "5a1fb69e-8b6f-4add-b819-e47641473950",
   "metadata": {},
   "outputs": [],
   "source": [
    "year_transform = pp.TransformYear(variables=['Year_Birth'],current_year=2022)"
   ]
  },
  {
   "cell_type": "code",
   "execution_count": 24,
   "id": "f524072d-640d-41ac-97b4-0339b915ff0d",
   "metadata": {},
   "outputs": [
    {
     "data": {
      "text/plain": [
       "<preprocessors.TransformYear at 0x123225ca0>"
      ]
     },
     "execution_count": 24,
     "metadata": {},
     "output_type": "execute_result"
    }
   ],
   "source": [
    "year_transform.fit(X_train)"
   ]
  },
  {
   "cell_type": "code",
   "execution_count": 25,
   "id": "af8b1ba2-d312-42bd-8f86-f191f332818a",
   "metadata": {},
   "outputs": [],
   "source": [
    "X_train = year_transform.transform(X_train)\n",
    "X_test = year_transform.transform(X_test)"
   ]
  },
  {
   "cell_type": "code",
   "execution_count": 26,
   "id": "c5898f97-0508-4dbd-a037-26f675f6ba1c",
   "metadata": {},
   "outputs": [
    {
     "data": {
      "text/plain": [
       "818     50\n",
       "1281    51\n",
       "1766    42\n",
       "1577    75\n",
       "924     36\n",
       "Name: Year_Birth, dtype: int64"
      ]
     },
     "execution_count": 26,
     "metadata": {},
     "output_type": "execute_result"
    }
   ],
   "source": [
    "X_train['Year_Birth'].head()"
   ]
  },
  {
   "cell_type": "markdown",
   "id": "144b9c37-8979-4111-90a0-b01d2b847ae4",
   "metadata": {},
   "source": [
    "## Encoding Variables\n",
    "\n",
    "Next, we need to transform the strings of the categorical variables into numbers. The variables that require encoding in this project are non-binary. To encode them, we will transform the strings into numbers that capture the monotonic relationship between the label and the target variable.\n",
    "\n",
    "This means we will assign ordinality based on the YES responses per label."
   ]
  },
  {
   "cell_type": "code",
   "execution_count": 27,
   "id": "3d7a3081-8376-4e60-872a-697adb55810c",
   "metadata": {},
   "outputs": [
    {
     "data": {
      "text/html": [
       "<div>\n",
       "<style scoped>\n",
       "    .dataframe tbody tr th:only-of-type {\n",
       "        vertical-align: middle;\n",
       "    }\n",
       "\n",
       "    .dataframe tbody tr th {\n",
       "        vertical-align: top;\n",
       "    }\n",
       "\n",
       "    .dataframe thead th {\n",
       "        text-align: right;\n",
       "    }\n",
       "</style>\n",
       "<table border=\"1\" class=\"dataframe\">\n",
       "  <thead>\n",
       "    <tr style=\"text-align: right;\">\n",
       "      <th></th>\n",
       "      <th>Education</th>\n",
       "      <th>Marital_Status</th>\n",
       "    </tr>\n",
       "  </thead>\n",
       "  <tbody>\n",
       "    <tr>\n",
       "      <th>818</th>\n",
       "      <td>Graduation</td>\n",
       "      <td>Married</td>\n",
       "    </tr>\n",
       "    <tr>\n",
       "      <th>1281</th>\n",
       "      <td>2n Cycle</td>\n",
       "      <td>Divorced</td>\n",
       "    </tr>\n",
       "    <tr>\n",
       "      <th>1766</th>\n",
       "      <td>PhD</td>\n",
       "      <td>Single</td>\n",
       "    </tr>\n",
       "    <tr>\n",
       "      <th>1577</th>\n",
       "      <td>PhD</td>\n",
       "      <td>Together</td>\n",
       "    </tr>\n",
       "    <tr>\n",
       "      <th>924</th>\n",
       "      <td>Graduation</td>\n",
       "      <td>Together</td>\n",
       "    </tr>\n",
       "  </tbody>\n",
       "</table>\n",
       "</div>"
      ],
      "text/plain": [
       "       Education Marital_Status\n",
       "818   Graduation        Married\n",
       "1281    2n Cycle       Divorced\n",
       "1766         PhD         Single\n",
       "1577         PhD       Together\n",
       "924   Graduation       Together"
      ]
     },
     "execution_count": 27,
     "metadata": {},
     "output_type": "execute_result"
    }
   ],
   "source": [
    "X_train[['Education','Marital_Status']].head()"
   ]
  },
  {
   "cell_type": "code",
   "execution_count": 28,
   "id": "88f39544-3687-42a7-bfef-a0f6ad4513a6",
   "metadata": {},
   "outputs": [],
   "source": [
    "ord_encoder = pp.OrdinalEncoder(variables=['Education','Marital_Status'], target='Response')"
   ]
  },
  {
   "cell_type": "code",
   "execution_count": 29,
   "id": "35dc55b6-e9c8-4384-8e86-08981c464676",
   "metadata": {},
   "outputs": [
    {
     "data": {
      "text/plain": [
       "<preprocessors.OrdinalEncoder at 0x12323f490>"
      ]
     },
     "execution_count": 29,
     "metadata": {},
     "output_type": "execute_result"
    }
   ],
   "source": [
    "ord_encoder.fit(X_train,y_train)"
   ]
  },
  {
   "cell_type": "code",
   "execution_count": 30,
   "id": "d2d051ac-c5af-4003-862d-350ac9c48614",
   "metadata": {},
   "outputs": [
    {
     "data": {
      "text/plain": [
       "{'Education': {'Graduation': 0.12691466083150985,\n",
       "  '2n Cycle': 0.11464968152866242,\n",
       "  'PhD': 0.19543147208121828,\n",
       "  'Master': 0.14385964912280702,\n",
       "  'Basic': 0.047619047619047616},\n",
       " 'Marital_Status': {'Married': 0.11285714285714285,\n",
       "  'Divorced': 0.17714285714285713,\n",
       "  'Single': 0.2198952879581152,\n",
       "  'Together': 0.09462365591397849,\n",
       "  'Widow': 0.21875,\n",
       "  'Absurd': 0.5,\n",
       "  'Alone': 0.3333333333333333,\n",
       "  'YOLO': 0.0}}"
      ]
     },
     "execution_count": 30,
     "metadata": {},
     "output_type": "execute_result"
    }
   ],
   "source": [
    "# response rates for the different labels\n",
    "ord_encoder.params_"
   ]
  },
  {
   "cell_type": "code",
   "execution_count": 31,
   "id": "0b846d50-631d-49b9-8eca-898e85af346d",
   "metadata": {},
   "outputs": [
    {
     "data": {
      "text/plain": [
       "{'Education': {'Basic': 1,\n",
       "  '2n Cycle': 2,\n",
       "  'Graduation': 3,\n",
       "  'Master': 4,\n",
       "  'PhD': 5},\n",
       " 'Marital_Status': {'YOLO': 1,\n",
       "  'Together': 2,\n",
       "  'Married': 3,\n",
       "  'Divorced': 4,\n",
       "  'Widow': 5,\n",
       "  'Single': 6,\n",
       "  'Alone': 7,\n",
       "  'Absurd': 8}}"
      ]
     },
     "execution_count": 31,
     "metadata": {},
     "output_type": "execute_result"
    }
   ],
   "source": [
    "# ordinal rankings of the response rates\n",
    "ord_encoder.ordinal_labels_"
   ]
  },
  {
   "cell_type": "code",
   "execution_count": 32,
   "id": "1e8e5a5c-57eb-4cd7-b3a9-b89078ac3374",
   "metadata": {},
   "outputs": [],
   "source": [
    "X_train = ord_encoder.transform(X_train)\n",
    "X_test = ord_encoder.transform(X_test)"
   ]
  },
  {
   "cell_type": "code",
   "execution_count": 33,
   "id": "ef1f3abc-dd84-4e99-8972-80ec471a6e03",
   "metadata": {},
   "outputs": [
    {
     "data": {
      "text/html": [
       "<div>\n",
       "<style scoped>\n",
       "    .dataframe tbody tr th:only-of-type {\n",
       "        vertical-align: middle;\n",
       "    }\n",
       "\n",
       "    .dataframe tbody tr th {\n",
       "        vertical-align: top;\n",
       "    }\n",
       "\n",
       "    .dataframe thead th {\n",
       "        text-align: right;\n",
       "    }\n",
       "</style>\n",
       "<table border=\"1\" class=\"dataframe\">\n",
       "  <thead>\n",
       "    <tr style=\"text-align: right;\">\n",
       "      <th></th>\n",
       "      <th>Education</th>\n",
       "      <th>Marital_Status</th>\n",
       "    </tr>\n",
       "  </thead>\n",
       "  <tbody>\n",
       "    <tr>\n",
       "      <th>818</th>\n",
       "      <td>3</td>\n",
       "      <td>3</td>\n",
       "    </tr>\n",
       "    <tr>\n",
       "      <th>1281</th>\n",
       "      <td>2</td>\n",
       "      <td>4</td>\n",
       "    </tr>\n",
       "    <tr>\n",
       "      <th>1766</th>\n",
       "      <td>5</td>\n",
       "      <td>6</td>\n",
       "    </tr>\n",
       "    <tr>\n",
       "      <th>1577</th>\n",
       "      <td>5</td>\n",
       "      <td>2</td>\n",
       "    </tr>\n",
       "    <tr>\n",
       "      <th>924</th>\n",
       "      <td>3</td>\n",
       "      <td>2</td>\n",
       "    </tr>\n",
       "  </tbody>\n",
       "</table>\n",
       "</div>"
      ],
      "text/plain": [
       "      Education  Marital_Status\n",
       "818           3               3\n",
       "1281          2               4\n",
       "1766          5               6\n",
       "1577          5               2\n",
       "924           3               2"
      ]
     },
     "execution_count": 33,
     "metadata": {},
     "output_type": "execute_result"
    }
   ],
   "source": [
    "X_train[['Education','Marital_Status']].head()"
   ]
  },
  {
   "cell_type": "markdown",
   "id": "33cd955f-c382-4f77-b3e3-fcba585e53c6",
   "metadata": {},
   "source": [
    "## Feature Scaling"
   ]
  },
  {
   "cell_type": "code",
   "execution_count": 34,
   "id": "51373e68-9f58-4d66-96ff-fd2c851dced6",
   "metadata": {},
   "outputs": [
    {
     "data": {
      "text/plain": [
       "['Year_Birth',\n",
       " 'Education',\n",
       " 'Marital_Status',\n",
       " 'Income',\n",
       " 'Kidhome',\n",
       " 'Teenhome',\n",
       " 'Dt_Customer',\n",
       " 'Recency',\n",
       " 'MntWines',\n",
       " 'MntFruits',\n",
       " 'MntMeatProducts',\n",
       " 'MntFishProducts',\n",
       " 'MntSweetProducts',\n",
       " 'MntGoldProds',\n",
       " 'NumDealsPurchases',\n",
       " 'NumWebPurchases',\n",
       " 'NumCatalogPurchases',\n",
       " 'NumStorePurchases',\n",
       " 'NumWebVisitsMonth']"
      ]
     },
     "execution_count": 34,
     "metadata": {},
     "output_type": "execute_result"
    }
   ],
   "source": [
    "# list out all the continuous variables to be scaled\n",
    "scaled = [var for var in X_train.columns if X_train[var].nunique() > 2]\n",
    "scaled"
   ]
  },
  {
   "cell_type": "code",
   "execution_count": 35,
   "id": "6ed9b61f-9dc4-4b04-a7b1-e627a154118f",
   "metadata": {},
   "outputs": [],
   "source": [
    "scaler = pp.ContinuousScaler(variables=scaled)"
   ]
  },
  {
   "cell_type": "code",
   "execution_count": 36,
   "id": "899d4424-a4bd-4891-a516-4173ddc18c3a",
   "metadata": {},
   "outputs": [
    {
     "data": {
      "text/plain": [
       "<preprocessors.ContinuousScaler at 0x12325ae80>"
      ]
     },
     "execution_count": 36,
     "metadata": {},
     "output_type": "execute_result"
    }
   ],
   "source": [
    "scaler.fit(X_train)"
   ]
  },
  {
   "cell_type": "code",
   "execution_count": 37,
   "id": "eb9475da-5828-40ca-b55c-da9625c4ccd5",
   "metadata": {},
   "outputs": [],
   "source": [
    "X_train = scaler.transform(X_train)\n",
    "X_test = scaler.transform(X_test)"
   ]
  },
  {
   "cell_type": "code",
   "execution_count": 38,
   "id": "95652800-01cc-4ad3-8fb6-a3997b9f1812",
   "metadata": {},
   "outputs": [
    {
     "data": {
      "text/html": [
       "<div>\n",
       "<style scoped>\n",
       "    .dataframe tbody tr th:only-of-type {\n",
       "        vertical-align: middle;\n",
       "    }\n",
       "\n",
       "    .dataframe tbody tr th {\n",
       "        vertical-align: top;\n",
       "    }\n",
       "\n",
       "    .dataframe thead th {\n",
       "        text-align: right;\n",
       "    }\n",
       "</style>\n",
       "<table border=\"1\" class=\"dataframe\">\n",
       "  <thead>\n",
       "    <tr style=\"text-align: right;\">\n",
       "      <th></th>\n",
       "      <th>Year_Birth</th>\n",
       "      <th>Education</th>\n",
       "      <th>Marital_Status</th>\n",
       "      <th>Income</th>\n",
       "      <th>Kidhome</th>\n",
       "      <th>Teenhome</th>\n",
       "      <th>Dt_Customer</th>\n",
       "      <th>Recency</th>\n",
       "      <th>MntWines</th>\n",
       "      <th>MntFruits</th>\n",
       "      <th>MntMeatProducts</th>\n",
       "      <th>MntFishProducts</th>\n",
       "      <th>MntSweetProducts</th>\n",
       "      <th>MntGoldProds</th>\n",
       "      <th>NumDealsPurchases</th>\n",
       "      <th>NumWebPurchases</th>\n",
       "      <th>NumCatalogPurchases</th>\n",
       "      <th>NumStorePurchases</th>\n",
       "      <th>NumWebVisitsMonth</th>\n",
       "      <th>AcceptedCmp3</th>\n",
       "      <th>AcceptedCmp4</th>\n",
       "      <th>AcceptedCmp5</th>\n",
       "      <th>AcceptedCmp1</th>\n",
       "      <th>AcceptedCmp2</th>\n",
       "      <th>Complain</th>\n",
       "    </tr>\n",
       "  </thead>\n",
       "  <tbody>\n",
       "    <tr>\n",
       "      <th>818</th>\n",
       "      <td>0.233010</td>\n",
       "      <td>0.50</td>\n",
       "      <td>0.285714</td>\n",
       "      <td>0.095207</td>\n",
       "      <td>0.0</td>\n",
       "      <td>0.5</td>\n",
       "      <td>0.0</td>\n",
       "      <td>0.545455</td>\n",
       "      <td>0.430295</td>\n",
       "      <td>0.070352</td>\n",
       "      <td>0.028406</td>\n",
       "      <td>0.000000</td>\n",
       "      <td>0.026718</td>\n",
       "      <td>0.177570</td>\n",
       "      <td>0.066667</td>\n",
       "      <td>0.333333</td>\n",
       "      <td>0.071429</td>\n",
       "      <td>0.692308</td>\n",
       "      <td>0.25</td>\n",
       "      <td>0</td>\n",
       "      <td>0</td>\n",
       "      <td>0</td>\n",
       "      <td>0</td>\n",
       "      <td>0</td>\n",
       "      <td>0</td>\n",
       "    </tr>\n",
       "    <tr>\n",
       "      <th>1281</th>\n",
       "      <td>0.242718</td>\n",
       "      <td>0.25</td>\n",
       "      <td>0.428571</td>\n",
       "      <td>0.070264</td>\n",
       "      <td>0.0</td>\n",
       "      <td>0.0</td>\n",
       "      <td>1.0</td>\n",
       "      <td>0.909091</td>\n",
       "      <td>0.415550</td>\n",
       "      <td>0.271357</td>\n",
       "      <td>0.138551</td>\n",
       "      <td>0.382239</td>\n",
       "      <td>0.374046</td>\n",
       "      <td>0.370717</td>\n",
       "      <td>0.133333</td>\n",
       "      <td>0.333333</td>\n",
       "      <td>0.250000</td>\n",
       "      <td>0.769231</td>\n",
       "      <td>0.35</td>\n",
       "      <td>0</td>\n",
       "      <td>1</td>\n",
       "      <td>0</td>\n",
       "      <td>0</td>\n",
       "      <td>1</td>\n",
       "      <td>0</td>\n",
       "    </tr>\n",
       "    <tr>\n",
       "      <th>1766</th>\n",
       "      <td>0.155340</td>\n",
       "      <td>1.00</td>\n",
       "      <td>0.714286</td>\n",
       "      <td>0.051722</td>\n",
       "      <td>0.5</td>\n",
       "      <td>0.0</td>\n",
       "      <td>0.0</td>\n",
       "      <td>0.232323</td>\n",
       "      <td>0.010724</td>\n",
       "      <td>0.005025</td>\n",
       "      <td>0.001159</td>\n",
       "      <td>0.000000</td>\n",
       "      <td>0.000000</td>\n",
       "      <td>0.003115</td>\n",
       "      <td>0.066667</td>\n",
       "      <td>0.037037</td>\n",
       "      <td>0.000000</td>\n",
       "      <td>0.230769</td>\n",
       "      <td>0.25</td>\n",
       "      <td>0</td>\n",
       "      <td>0</td>\n",
       "      <td>0</td>\n",
       "      <td>0</td>\n",
       "      <td>0</td>\n",
       "      <td>0</td>\n",
       "    </tr>\n",
       "    <tr>\n",
       "      <th>1577</th>\n",
       "      <td>0.475728</td>\n",
       "      <td>1.00</td>\n",
       "      <td>0.142857</td>\n",
       "      <td>0.119128</td>\n",
       "      <td>0.0</td>\n",
       "      <td>0.0</td>\n",
       "      <td>0.0</td>\n",
       "      <td>0.898990</td>\n",
       "      <td>0.839142</td>\n",
       "      <td>0.000000</td>\n",
       "      <td>0.269565</td>\n",
       "      <td>0.177606</td>\n",
       "      <td>0.133588</td>\n",
       "      <td>0.000000</td>\n",
       "      <td>0.066667</td>\n",
       "      <td>0.148148</td>\n",
       "      <td>0.178571</td>\n",
       "      <td>0.615385</td>\n",
       "      <td>0.05</td>\n",
       "      <td>0</td>\n",
       "      <td>1</td>\n",
       "      <td>1</td>\n",
       "      <td>0</td>\n",
       "      <td>0</td>\n",
       "      <td>0</td>\n",
       "    </tr>\n",
       "    <tr>\n",
       "      <th>924</th>\n",
       "      <td>0.097087</td>\n",
       "      <td>0.50</td>\n",
       "      <td>0.142857</td>\n",
       "      <td>0.121324</td>\n",
       "      <td>0.5</td>\n",
       "      <td>0.0</td>\n",
       "      <td>0.0</td>\n",
       "      <td>0.828283</td>\n",
       "      <td>0.544236</td>\n",
       "      <td>0.497487</td>\n",
       "      <td>0.249855</td>\n",
       "      <td>0.915058</td>\n",
       "      <td>0.568702</td>\n",
       "      <td>0.102804</td>\n",
       "      <td>0.066667</td>\n",
       "      <td>0.407407</td>\n",
       "      <td>0.142857</td>\n",
       "      <td>0.769231</td>\n",
       "      <td>0.25</td>\n",
       "      <td>0</td>\n",
       "      <td>0</td>\n",
       "      <td>0</td>\n",
       "      <td>1</td>\n",
       "      <td>0</td>\n",
       "      <td>0</td>\n",
       "    </tr>\n",
       "  </tbody>\n",
       "</table>\n",
       "</div>"
      ],
      "text/plain": [
       "      Year_Birth  Education  Marital_Status    Income  Kidhome  Teenhome  \\\n",
       "818     0.233010       0.50        0.285714  0.095207      0.0       0.5   \n",
       "1281    0.242718       0.25        0.428571  0.070264      0.0       0.0   \n",
       "1766    0.155340       1.00        0.714286  0.051722      0.5       0.0   \n",
       "1577    0.475728       1.00        0.142857  0.119128      0.0       0.0   \n",
       "924     0.097087       0.50        0.142857  0.121324      0.5       0.0   \n",
       "\n",
       "      Dt_Customer   Recency  MntWines  MntFruits  MntMeatProducts  \\\n",
       "818           0.0  0.545455  0.430295   0.070352         0.028406   \n",
       "1281          1.0  0.909091  0.415550   0.271357         0.138551   \n",
       "1766          0.0  0.232323  0.010724   0.005025         0.001159   \n",
       "1577          0.0  0.898990  0.839142   0.000000         0.269565   \n",
       "924           0.0  0.828283  0.544236   0.497487         0.249855   \n",
       "\n",
       "      MntFishProducts  MntSweetProducts  MntGoldProds  NumDealsPurchases  \\\n",
       "818          0.000000          0.026718      0.177570           0.066667   \n",
       "1281         0.382239          0.374046      0.370717           0.133333   \n",
       "1766         0.000000          0.000000      0.003115           0.066667   \n",
       "1577         0.177606          0.133588      0.000000           0.066667   \n",
       "924          0.915058          0.568702      0.102804           0.066667   \n",
       "\n",
       "      NumWebPurchases  NumCatalogPurchases  NumStorePurchases  \\\n",
       "818          0.333333             0.071429           0.692308   \n",
       "1281         0.333333             0.250000           0.769231   \n",
       "1766         0.037037             0.000000           0.230769   \n",
       "1577         0.148148             0.178571           0.615385   \n",
       "924          0.407407             0.142857           0.769231   \n",
       "\n",
       "      NumWebVisitsMonth  AcceptedCmp3  AcceptedCmp4  AcceptedCmp5  \\\n",
       "818                0.25             0             0             0   \n",
       "1281               0.35             0             1             0   \n",
       "1766               0.25             0             0             0   \n",
       "1577               0.05             0             1             1   \n",
       "924                0.25             0             0             0   \n",
       "\n",
       "      AcceptedCmp1  AcceptedCmp2  Complain  \n",
       "818              0             0         0  \n",
       "1281             0             1         0  \n",
       "1766             0             0         0  \n",
       "1577             0             0         0  \n",
       "924              1             0         0  "
      ]
     },
     "execution_count": 38,
     "metadata": {},
     "output_type": "execute_result"
    }
   ],
   "source": [
    "# visualise the scaled dataframe\n",
    "X_train.head()"
   ]
  },
  {
   "cell_type": "markdown",
   "id": "23074871-b537-43f4-b087-4fd5b5ae0e1c",
   "metadata": {},
   "source": [
    "We now have several classes with parameters learned from the training dataset, that we can store and retrieve at a later stage, so that when a colleague comes with new data, we are in a better position to score it faster.\n",
    "\n",
    "Still:\n",
    "\n",
    "- we would need to save each class\n",
    "- then we could load each class\n",
    "- and apply each transformation individually.\n",
    "\n",
    "Which sounds like a lot of work.\n",
    "\n",
    "The good news is, we can reduce the amount of work, if we set up all the transformations within a pipeline."
   ]
  },
  {
   "cell_type": "code",
   "execution_count": null,
   "id": "99931e20-5765-4659-9918-c7221056234b",
   "metadata": {},
   "outputs": [],
   "source": []
  }
 ],
 "metadata": {
  "kernelspec": {
   "display_name": "Python 3 (ipykernel)",
   "language": "python",
   "name": "python3"
  },
  "language_info": {
   "codemirror_mode": {
    "name": "ipython",
    "version": 3
   },
   "file_extension": ".py",
   "mimetype": "text/x-python",
   "name": "python",
   "nbconvert_exporter": "python",
   "pygments_lexer": "ipython3",
   "version": "3.9.7"
  }
 },
 "nbformat": 4,
 "nbformat_minor": 5
}
